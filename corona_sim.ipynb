{
 "nbformat": 4,
 "nbformat_minor": 2,
 "metadata": {
  "language_info": {
   "name": "python",
   "codemirror_mode": {
    "name": "ipython",
    "version": 3
   },
   "version": "3.8.2-final"
  },
  "orig_nbformat": 2,
  "file_extension": ".py",
  "mimetype": "text/x-python",
  "name": "python",
  "npconvert_exporter": "python",
  "pygments_lexer": "ipython3",
  "version": 3,
  "kernelspec": {
   "name": "python38264bitvenvvenv5079921ea3b441f2b94452a022ac95c1",
   "display_name": "Python 3.8.2 64-bit ('venv': venv)"
  }
 },
 "cells": [
  {
   "cell_type": "code",
   "execution_count": 1,
   "metadata": {
    "tags": [
     "outputPrepend",
     "outputPrepend"
    ]
   },
   "outputs": [
    {
     "output_type": "stream",
     "name": "stdout",
     "text": "Agent-0@Home-0 going to Væsterkæret Skole\nAgent-1@Home-1 going to Væsterkæret Skole\n1 got exposed.\nAgent-0@Væsterkæret Skole going to Home-0\nAgent-1@Væsterkæret Skole going to Home-1\nAgent-0@Home-0 going to Væsterkæret Skole\nAgent-1@Home-1 going to Væsterkæret Skole\nAgent-0@Væsterkæret Skole going to Home-0\nAgent-1@Væsterkæret Skole going to Home-1\nAgent-0@Home-0 going to Væsterkæret Skole\nAgent-1@Home-1 going to Væsterkæret Skole\nAgent-0@Væsterkæret Skole going to Home-0\nAgent-1@Væsterkæret Skole going to Home-1\nAgent-0@Home-0 going to Væsterkæret Skole\nAgent-1@Home-1 going to Væsterkæret Skole\nAgent-0@Væsterkæret Skole going to Home-0\nAgent-1@Væsterkæret Skole going to Home-1\n"
    }
   ],
   "source": [
    "%matplotlib inline\n",
    "import matplotlib.pyplot as plt\n",
    "from epidexus import ItineraryEntry, Location, EpidexusModel, Person, SEIR\n",
    "from datetime import datetime, timedelta\n",
    "\n",
    "start_date = datetime(year=2020, month=4, day=1)\n",
    "sim_model = EpidexusModel(start_date, sim_time_step=timedelta(hours=1))\n",
    "\n",
    "vks = Location(\"Væsterkæret Skole\")\n",
    "\n",
    "def school_scheduler(current_time: datetime):\n",
    "    from_time = current_time + timedelta(days=1)\n",
    "    from_time = from_time.replace(hour=8)\n",
    "    return from_time, timedelta(hours=5)\n",
    "\n",
    "t, dt = school_scheduler(start_date - timedelta(days=1))\n",
    "vks_it = ItineraryEntry(vks, t, dt, school_scheduler)\n",
    "\n",
    "for i in range(2):\n",
    "    hl = Location(\"Home-\" + str(i))\n",
    "    p = Person(i, sim_model, hl)\n",
    "    p.itinerary.add_entry(vks_it)\n",
    "    sim_model.add_person(p)\n",
    "\n",
    "# Hacking agent 0 to be infectious\n",
    "sim_model.schedule.agents[0].infect()\n",
    "sim_model.schedule.agents[0].infection_state.seir = SEIR.INFECTED\n",
    "\n",
    "for i in range(100):\n",
    "    sim_model.step()"
   ]
  },
  {
   "cell_type": "code",
   "execution_count": 2,
   "metadata": {},
   "outputs": [
    {
     "output_type": "execute_result",
     "data": {
      "text/plain": "   S  E  I  R\n0  0  1  1  0\n1  0  1  1  0\n2  0  1  1  0\n3  0  1  1  0",
      "text/html": "<div>\n<style scoped>\n    .dataframe tbody tr th:only-of-type {\n        vertical-align: middle;\n    }\n\n    .dataframe tbody tr th {\n        vertical-align: top;\n    }\n\n    .dataframe thead th {\n        text-align: right;\n    }\n</style>\n<table border=\"1\" class=\"dataframe\">\n  <thead>\n    <tr style=\"text-align: right;\">\n      <th></th>\n      <th>S</th>\n      <th>E</th>\n      <th>I</th>\n      <th>R</th>\n    </tr>\n  </thead>\n  <tbody>\n    <tr>\n      <th>0</th>\n      <td>0</td>\n      <td>1</td>\n      <td>1</td>\n      <td>0</td>\n    </tr>\n    <tr>\n      <th>1</th>\n      <td>0</td>\n      <td>1</td>\n      <td>1</td>\n      <td>0</td>\n    </tr>\n    <tr>\n      <th>2</th>\n      <td>0</td>\n      <td>1</td>\n      <td>1</td>\n      <td>0</td>\n    </tr>\n    <tr>\n      <th>3</th>\n      <td>0</td>\n      <td>1</td>\n      <td>1</td>\n      <td>0</td>\n    </tr>\n  </tbody>\n</table>\n</div>"
     },
     "metadata": {},
     "execution_count": 2
    }
   ],
   "source": [
    "seir = sim_model.datacollector.get_model_vars_dataframe()\n",
    "seir.plot()\n"
   ]
  }
 ]
}