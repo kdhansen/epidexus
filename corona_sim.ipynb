{
 "nbformat": 4,
 "nbformat_minor": 2,
 "metadata": {
  "language_info": {
   "name": "python",
   "codemirror_mode": {
    "name": "ipython",
    "version": 3
   },
   "version": "3.8.2-final"
  },
  "orig_nbformat": 2,
  "file_extension": ".py",
  "mimetype": "text/x-python",
  "name": "python",
  "npconvert_exporter": "python",
  "pygments_lexer": "ipython3",
  "version": 3,
  "kernelspec": {
   "name": "python38264bitvenvvenv5079921ea3b441f2b94452a022ac95c1",
   "display_name": "Python 3.8.2 64-bit ('venv': venv)"
  }
 },
 "cells": [
  {
   "cell_type": "code",
   "execution_count": 1,
   "metadata": {
    "tags": [
     "outputPrepend",
     "outputPrepend"
    ]
   },
   "outputs": [
    {
     "output_type": "stream",
     "name": "stdout",
     "text": "2020-04-01 00:15:00\n2020-04-01 00:30:00\n2020-04-01 00:45:00\n2020-04-01 01:00:00\n2020-04-01 01:15:00\n2020-04-01 01:30:00\n2020-04-01 01:45:00\n2020-04-01 02:00:00\n2020-04-01 02:15:00\n2020-04-01 02:30:00\n2020-04-01 02:45:00\n2020-04-01 03:00:00\n2020-04-01 03:15:00\n2020-04-01 03:30:00\n2020-04-01 03:45:00\n2020-04-01 04:00:00\n2020-04-01 04:15:00\n2020-04-01 04:30:00\n2020-04-01 04:45:00\n2020-04-01 05:00:00\n2020-04-01 05:15:00\n2020-04-01 05:30:00\n2020-04-01 05:45:00\n2020-04-01 06:00:00\n2020-04-01 06:15:00\n2020-04-01 06:30:00\n2020-04-01 06:45:00\n2020-04-01 07:00:00\n2020-04-01 07:15:00\n2020-04-01 07:30:00\n2020-04-01 07:45:00\n2020-04-01 08:00:00\nAgent-0@Home-0 going to Væsterkæret Skole\nAgent-1@Home-1 going to Væsterkæret Skole\n2020-04-01 08:15:00\n1 got exposed.\n2020-04-01 08:30:00\n2020-04-01 08:45:00\n2020-04-01 09:00:00\n2020-04-01 09:15:00\n2020-04-01 09:30:00\n2020-04-01 09:45:00\n2020-04-01 10:00:00\n2020-04-01 10:15:00\n2020-04-01 10:30:00\n2020-04-01 10:45:00\n2020-04-01 11:00:00\n2020-04-01 11:15:00\n2020-04-01 11:30:00\n2020-04-01 11:45:00\n2020-04-01 12:00:00\n2020-04-01 12:15:00\n2020-04-01 12:30:00\n2020-04-01 12:45:00\n2020-04-01 13:00:00\nAgent-0@Væsterkæret Skole going to Home-0\nAgent-1@Væsterkæret Skole going to Home-1\n2020-04-01 13:15:00\n2020-04-01 13:30:00\n2020-04-01 13:45:00\n2020-04-01 14:00:00\n2020-04-01 14:15:00\n2020-04-01 14:30:00\n2020-04-01 14:45:00\n2020-04-01 15:00:00\n2020-04-01 15:15:00\n2020-04-01 15:30:00\n2020-04-01 15:45:00\n2020-04-01 16:00:00\n2020-04-01 16:15:00\n2020-04-01 16:30:00\n2020-04-01 16:45:00\n2020-04-01 17:00:00\n2020-04-01 17:15:00\n2020-04-01 17:30:00\n2020-04-01 17:45:00\n2020-04-01 18:00:00\n2020-04-01 18:15:00\n2020-04-01 18:30:00\n2020-04-01 18:45:00\n2020-04-01 19:00:00\n2020-04-01 19:15:00\n2020-04-01 19:30:00\n2020-04-01 19:45:00\n2020-04-01 20:00:00\n2020-04-01 20:15:00\n2020-04-01 20:30:00\n2020-04-01 20:45:00\n2020-04-01 21:00:00\n2020-04-01 21:15:00\n2020-04-01 21:30:00\n2020-04-01 21:45:00\n2020-04-01 22:00:00\n2020-04-01 22:15:00\n2020-04-01 22:30:00\n2020-04-01 22:45:00\n2020-04-01 23:00:00\n2020-04-01 23:15:00\n2020-04-01 23:30:00\n2020-04-01 23:45:00\n2020-04-02 00:00:00\n2020-04-02 00:15:00\n2020-04-02 00:30:00\n2020-04-02 00:45:00\n2020-04-02 01:00:00\n"
    }
   ],
   "source": [
    "from epidexus import ItineraryEntry, Location, EpidexusModel, Person, SEIR\n",
    "from datetime import datetime, timedelta\n",
    "\n",
    "start_date = datetime(year=2020, month=4, day=1)\n",
    "sim_model = EpidexusModel(start_date, sim_time_step=timedelta(hours=1))\n",
    "\n",
    "vks = Location(\"Væsterkæret Skole\")\n",
    "\n",
    "def school_scheduler(current_time: datetime):\n",
    "    from_time = current_time + timedelta(days=1)\n",
    "    from_time = from_time.replace(hour=8)\n",
    "    return from_time, timedelta(hours=5)\n",
    "\n",
    "t, dt = school_scheduler(start_date - timedelta(days=1))\n",
    "vks_it = ItineraryEntry(vks, t, dt, school_scheduler)\n",
    "\n",
    "for i in range(2):\n",
    "    hl = Location(\"Home-\" + str(i))\n",
    "    p = Person(i, sim_model, hl)\n",
    "    p.itinerary.add_entry(vks_it)\n",
    "    sim_model.add_person(p)\n",
    "\n",
    "# Hacking agent 0 to be infectious\n",
    "sim_model.schedule.agents[0].infect()\n",
    "sim_model.schedule.agents[0].infection_state.seir = SEIR.INFECTED\n",
    "\n",
    "for i in range(100):\n",
    "    sim_model.step()"
   ]
  },
  {
   "cell_type": "code",
   "execution_count": null,
   "metadata": {},
   "outputs": [],
   "source": []
  }
 ]
}