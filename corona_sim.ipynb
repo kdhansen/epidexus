{
 "nbformat": 4,
 "nbformat_minor": 2,
 "metadata": {
  "language_info": {
   "name": "python",
   "codemirror_mode": {
    "name": "ipython",
    "version": 3
   },
   "version": "3.8.2-final"
  },
  "orig_nbformat": 2,
  "file_extension": ".py",
  "mimetype": "text/x-python",
  "name": "python",
  "npconvert_exporter": "python",
  "pygments_lexer": "ipython3",
  "version": 3,
  "kernelspec": {
   "name": "python38264bitvenvvenv5079921ea3b441f2b94452a022ac95c1",
   "display_name": "Python 3.8.2 64-bit ('venv': venv)"
  }
 },
 "cells": [
  {
   "cell_type": "code",
   "execution_count": 1,
   "metadata": {
    "tags": [
     "outputPrepend",
     "outputPrepend"
    ]
   },
   "outputs": [
    {
     "output_type": "stream",
     "name": "stdout",
     "text": "2020-04-01 00:15:00\n2020-04-01 08:00:00>2020-04-01 00:15:00\nAgent-0@Home-0 -> None\n2020-04-01 08:00:00>2020-04-01 00:15:00\nAgent-1@Home-1 -> None\n2020-04-01 00:30:00\n2020-04-01 08:00:00>2020-04-01 00:30:00\nAgent-0@Home-0 -> None\n2020-04-01 08:00:00>2020-04-01 00:30:00\nAgent-1@Home-1 -> None\n2020-04-01 00:45:00\n2020-04-01 08:00:00>2020-04-01 00:45:00\nAgent-0@Home-0 -> None\n2020-04-01 08:00:00>2020-04-01 00:45:00\nAgent-1@Home-1 -> None\n2020-04-01 01:00:00\n2020-04-01 08:00:00>2020-04-01 01:00:00\nAgent-0@Home-0 -> None\n2020-04-01 08:00:00>2020-04-01 01:00:00\nAgent-1@Home-1 -> None\n2020-04-01 01:15:00\n2020-04-01 08:00:00>2020-04-01 01:15:00\nAgent-0@Home-0 -> None\n2020-04-01 08:00:00>2020-04-01 01:15:00\nAgent-1@Home-1 -> None\n2020-04-01 01:30:00\n2020-04-01 08:00:00>2020-04-01 01:30:00\nAgent-0@Home-0 -> None\n2020-04-01 08:00:00>2020-04-01 01:30:00\nAgent-1@Home-1 -> None\n2020-04-01 01:45:00\n2020-04-01 08:00:00>2020-04-01 01:45:00\nAgent-0@Home-0 -> None\n2020-04-01 08:00:00>2020-04-01 01:45:00\nAgent-1@Home-1 -> None\n2020-04-01 02:00:00\n2020-04-01 08:00:00>2020-04-01 02:00:00\nAgent-0@Home-0 -> None\n2020-04-01 08:00:00>2020-04-01 02:00:00\nAgent-1@Home-1 -> None\n2020-04-01 02:15:00\n2020-04-01 08:00:00>2020-04-01 02:15:00\nAgent-0@Home-0 -> None\n2020-04-01 08:00:00>2020-04-01 02:15:00\nAgent-1@Home-1 -> None\n2020-04-01 02:30:00\n2020-04-01 08:00:00>2020-04-01 02:30:00\nAgent-0@Home-0 -> None\n2020-04-01 08:00:00>2020-04-01 02:30:00\nAgent-1@Home-1 -> None\n2020-04-01 02:45:00\n2020-04-01 08:00:00>2020-04-01 02:45:00\nAgent-0@Home-0 -> None\n2020-04-01 08:00:00>2020-04-01 02:45:00\nAgent-1@Home-1 -> None\n2020-04-01 03:00:00\n2020-04-01 08:00:00>2020-04-01 03:00:00\nAgent-0@Home-0 -> None\n2020-04-01 08:00:00>2020-04-01 03:00:00\nAgent-1@Home-1 -> None\n2020-04-01 03:15:00\n2020-04-01 08:00:00>2020-04-01 03:15:00\nAgent-0@Home-0 -> None\n2020-04-01 08:00:00>2020-04-01 03:15:00\nAgent-1@Home-1 -> None\n2020-04-01 03:30:00\n2020-04-01 08:00:00>2020-04-01 03:30:00\nAgent-0@Home-0 -> None\n2020-04-01 08:00:00>2020-04-01 03:30:00\nAgent-1@Home-1 -> None\n2020-04-01 03:45:00\n2020-04-01 08:00:00>2020-04-01 03:45:00\nAgent-0@Home-0 -> None\n2020-04-01 08:00:00>2020-04-01 03:45:00\nAgent-1@Home-1 -> None\n2020-04-01 04:00:00\n2020-04-01 08:00:00>2020-04-01 04:00:00\nAgent-0@Home-0 -> None\n2020-04-01 08:00:00>2020-04-01 04:00:00\nAgent-1@Home-1 -> None\n2020-04-01 04:15:00\n2020-04-01 08:00:00>2020-04-01 04:15:00\nAgent-0@Home-0 -> None\n2020-04-01 08:00:00>2020-04-01 04:15:00\nAgent-1@Home-1 -> None\n2020-04-01 04:30:00\n2020-04-01 08:00:00>2020-04-01 04:30:00\nAgent-0@Home-0 -> None\n2020-04-01 08:00:00>2020-04-01 04:30:00\nAgent-1@Home-1 -> None\n2020-04-01 04:45:00\n2020-04-01 08:00:00>2020-04-01 04:45:00\nAgent-0@Home-0 -> None\n2020-04-01 08:00:00>2020-04-01 04:45:00\nAgent-1@Home-1 -> None\n2020-04-01 05:00:00\n2020-04-01 08:00:00>2020-04-01 05:00:00\nAgent-0@Home-0 -> None\n2020-04-01 08:00:00>2020-04-01 05:00:00\nAgent-1@Home-1 -> None\n2020-04-01 05:15:00\n2020-04-01 08:00:00>2020-04-01 05:15:00\nAgent-0@Home-0 -> None\n2020-04-01 08:00:00>2020-04-01 05:15:00\nAgent-1@Home-1 -> None\n2020-04-01 05:30:00\n2020-04-01 08:00:00>2020-04-01 05:30:00\nAgent-0@Home-0 -> None\n2020-04-01 08:00:00>2020-04-01 05:30:00\nAgent-1@Home-1 -> None\n2020-04-01 05:45:00\n2020-04-01 08:00:00>2020-04-01 05:45:00\nAgent-0@Home-0 -> None\n2020-04-01 08:00:00>2020-04-01 05:45:00\nAgent-1@Home-1 -> None\n2020-04-01 06:00:00\n2020-04-01 08:00:00>2020-04-01 06:00:00\nAgent-0@Home-0 -> None\n2020-04-01 08:00:00>2020-04-01 06:00:00\nAgent-1@Home-1 -> None\n2020-04-01 06:15:00\n2020-04-01 08:00:00>2020-04-01 06:15:00\nAgent-0@Home-0 -> None\n2020-04-01 08:00:00>2020-04-01 06:15:00\nAgent-1@Home-1 -> None\n2020-04-01 06:30:00\n2020-04-01 08:00:00>2020-04-01 06:30:00\nAgent-0@Home-0 -> None\n2020-04-01 08:00:00>2020-04-01 06:30:00\nAgent-1@Home-1 -> None\n2020-04-01 06:45:00\n2020-04-01 08:00:00>2020-04-01 06:45:00\nAgent-0@Home-0 -> None\n2020-04-01 08:00:00>2020-04-01 06:45:00\nAgent-1@Home-1 -> None\n2020-04-01 07:00:00\n2020-04-01 08:00:00>2020-04-01 07:00:00\nAgent-0@Home-0 -> None\n2020-04-01 08:00:00>2020-04-01 07:00:00\nAgent-1@Home-1 -> None\n2020-04-01 07:15:00\n2020-04-01 08:00:00>2020-04-01 07:15:00\nAgent-0@Home-0 -> None\n2020-04-01 08:00:00>2020-04-01 07:15:00\nAgent-1@Home-1 -> None\n2020-04-01 07:30:00\n2020-04-01 08:00:00>2020-04-01 07:30:00\nAgent-0@Home-0 -> None\n2020-04-01 08:00:00>2020-04-01 07:30:00\nAgent-1@Home-1 -> None\n2020-04-01 07:45:00\n2020-04-01 08:00:00>2020-04-01 07:45:00\nAgent-0@Home-0 -> None\n2020-04-01 08:00:00>2020-04-01 07:45:00\nAgent-1@Home-1 -> None\n2020-04-01 08:00:00\n2\nAgent-0@Home-0 -> <epidexus.Location object at 0x000001D62102E6D0>\nGoing to Væsterkæret Skole\n2\nAgent-1@Home-1 -> <epidexus.Location object at 0x000001D62102E6D0>\nGoing to Væsterkæret Skole\n2020-04-01 08:15:00\n2\nAgent-0@Væsterkæret Skole -> <epidexus.Location object at 0x000001D62102E6D0>\n2\nAgent-1@Væsterkæret Skole -> <epidexus.Location object at 0x000001D62102E6D0>\n2020-04-01 08:30:00\n2\nAgent-0@Væsterkæret Skole -> <epidexus.Location object at 0x000001D62102E6D0>\n2\nAgent-1@Væsterkæret Skole -> <epidexus.Location object at 0x000001D62102E6D0>\n2020-04-01 08:45:00\n2\nAgent-0@Væsterkæret Skole -> <epidexus.Location object at 0x000001D62102E6D0>\n2\nAgent-1@Væsterkæret Skole -> <epidexus.Location object at 0x000001D62102E6D0>\n2020-04-01 09:00:00\n2\nAgent-0@Væsterkæret Skole -> <epidexus.Location object at 0x000001D62102E6D0>\n2\nAgent-1@Væsterkæret Skole -> <epidexus.Location object at 0x000001D62102E6D0>\n2020-04-01 09:15:00\n2\nAgent-0@Væsterkæret Skole -> <epidexus.Location object at 0x000001D62102E6D0>\n2\nAgent-1@Væsterkæret Skole -> <epidexus.Location object at 0x000001D62102E6D0>\n2020-04-01 09:30:00\n2\nAgent-0@Væsterkæret Skole -> <epidexus.Location object at 0x000001D62102E6D0>\n2\nAgent-1@Væsterkæret Skole -> <epidexus.Location object at 0x000001D62102E6D0>\n2020-04-01 09:45:00\n2\nAgent-0@Væsterkæret Skole -> <epidexus.Location object at 0x000001D62102E6D0>\n2\nAgent-1@Væsterkæret Skole -> <epidexus.Location object at 0x000001D62102E6D0>\n2020-04-01 10:00:00\n2\nAgent-0@Væsterkæret Skole -> <epidexus.Location object at 0x000001D62102E6D0>\n2\nAgent-1@Væsterkæret Skole -> <epidexus.Location object at 0x000001D62102E6D0>\n2020-04-01 10:15:00\n2\nAgent-0@Væsterkæret Skole -> <epidexus.Location object at 0x000001D62102E6D0>\n2\nAgent-1@Væsterkæret Skole -> <epidexus.Location object at 0x000001D62102E6D0>\n2020-04-01 10:30:00\n2\nAgent-0@Væsterkæret Skole -> <epidexus.Location object at 0x000001D62102E6D0>\n2\nAgent-1@Væsterkæret Skole -> <epidexus.Location object at 0x000001D62102E6D0>\n2020-04-01 10:45:00\n2\nAgent-0@Væsterkæret Skole -> <epidexus.Location object at 0x000001D62102E6D0>\n2\nAgent-1@Væsterkæret Skole -> <epidexus.Location object at 0x000001D62102E6D0>\n2020-04-01 11:00:00\n2\nAgent-0@Væsterkæret Skole -> <epidexus.Location object at 0x000001D62102E6D0>\n2\nAgent-1@Væsterkæret Skole -> <epidexus.Location object at 0x000001D62102E6D0>\n2020-04-01 11:15:00\n2\nAgent-0@Væsterkæret Skole -> <epidexus.Location object at 0x000001D62102E6D0>\n2\nAgent-1@Væsterkæret Skole -> <epidexus.Location object at 0x000001D62102E6D0>\n2020-04-01 11:30:00\n2\nAgent-0@Væsterkæret Skole -> <epidexus.Location object at 0x000001D62102E6D0>\n2\nAgent-1@Væsterkæret Skole -> <epidexus.Location object at 0x000001D62102E6D0>\n2020-04-01 11:45:00\n2\nAgent-0@Væsterkæret Skole -> <epidexus.Location object at 0x000001D62102E6D0>\n2\nAgent-1@Væsterkæret Skole -> <epidexus.Location object at 0x000001D62102E6D0>\n2020-04-01 12:00:00\n2\nAgent-0@Væsterkæret Skole -> <epidexus.Location object at 0x000001D62102E6D0>\n2\nAgent-1@Væsterkæret Skole -> <epidexus.Location object at 0x000001D62102E6D0>\n2020-04-01 12:15:00\n2\nAgent-0@Væsterkæret Skole -> <epidexus.Location object at 0x000001D62102E6D0>\n2\nAgent-1@Væsterkæret Skole -> <epidexus.Location object at 0x000001D62102E6D0>\n2020-04-01 12:30:00\n2\nAgent-0@Væsterkæret Skole -> <epidexus.Location object at 0x000001D62102E6D0>\n2\nAgent-1@Væsterkæret Skole -> <epidexus.Location object at 0x000001D62102E6D0>\n"
    }
   ],
   "source": [
    "from epidexus import ItenaryEntry, Location, EpidexusModel, Person\n",
    "from datetime import datetime, timedelta\n",
    "\n",
    "sim_model = EpidexusModel()\n",
    "\n",
    "vks = Location(\"Væsterkæret Skole\")\n",
    "\n",
    "def school_scheduler(current_time: datetime):\n",
    "    from_time = current_time + timedelta(days=1)\n",
    "    from_time = from_time.replace(hour=8)\n",
    "    return from_time, timedelta(hours=5)\n",
    "\n",
    "now = datetime(year=2020, month=3, day=31)\n",
    "t, dt = school_scheduler(now)\n",
    "vks_it = ItenaryEntry(vks, t, dt, school_scheduler)\n",
    "\n",
    "for i in range(2):\n",
    "    hl = Location(\"Home-\" + str(i))\n",
    "    p = Person(i, hl, sim_model)\n",
    "    p.itenary.add_entry(vks_it)\n",
    "    sim_model.add_person(p)\n",
    "\n",
    "for i in range(100):\n",
    "    sim_model.step()"
   ]
  }
 ]
}